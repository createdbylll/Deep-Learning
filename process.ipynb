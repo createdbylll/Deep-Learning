{
 "cells": [
  {
   "cell_type": "code",
   "execution_count": 2,
   "metadata": {},
   "outputs": [],
   "source": [
    "import pandas as pd\n",
    "import numpy as np\n"
   ]
  },
  {
   "cell_type": "code",
   "execution_count": 3,
   "metadata": {},
   "outputs": [
    {
     "name": "stderr",
     "output_type": "stream",
     "text": [
      "C:\\Users\\xydzy\\AppData\\Local\\Temp\\ipykernel_22992\\2815211952.py:1: DtypeWarning: Columns (3) have mixed types. Specify dtype option on import or set low_memory=False.\n",
      "  data = pd.read_csv('train.csv')\n"
     ]
    }
   ],
   "source": [
    "data = pd.read_csv('train.csv')"
   ]
  },
  {
   "cell_type": "code",
   "execution_count": 4,
   "metadata": {},
   "outputs": [],
   "source": [
    "df = data.copy()\n",
    "\n",
    "# 将IDF_TYP_CD转化为数字\n",
    "df['IDF_TYP_CD'] = df['IDF_TYP_CD'].apply(lambda row : int(row[2:]))\n",
    "\n",
    "# 删除ID\n",
    "df.drop('CUST_ID', inplace=True, axis=1)\n",
    "\n",
    "# 将N,Y转化为数字\n",
    "def getvalue(x):\n",
    "    if(x == 'N'):\n",
    "        return 0\n",
    "    elif(x == 'Y'):\n",
    "        return 1\n",
    "    else:\n",
    "        return x\n",
    "for i in df.columns:\n",
    "    df[i] = df[i].apply(getvalue)\n",
    "\n",
    "# 将gender中的字符'X'设置为1\n",
    "def getgender(x):\n",
    "    if(x == 'X'):\n",
    "        return 1\n",
    "    else:\n",
    "        return int(x)\n",
    "df['GENDER'] = df['GENDER'].apply(getgender)"
   ]
  },
  {
   "cell_type": "code",
   "execution_count": 5,
   "metadata": {},
   "outputs": [],
   "source": [
    "# 归一化\n",
    "for i in df.columns:\n",
    "    df[i] = df[i].astype(float)\n",
    "    df[i] = (df[i]-df[i].min())/(df[i].max()-df[i].min())"
   ]
  },
  {
   "cell_type": "code",
   "execution_count": 6,
   "metadata": {},
   "outputs": [],
   "source": [
    "# 归一化后数据若为NaN说明该列为同一个数字，因此需要删除这样的特征\n",
    "delete_list = []\n",
    "for i in df.columns:\n",
    "    if(pd.isna(df[i][0])):\n",
    "        delete_list.append(i)\n",
    "\n",
    "for i in delete_list:\n",
    "    df.drop(i, inplace=True, axis=1)"
   ]
  },
  {
   "cell_type": "code",
   "execution_count": 11,
   "metadata": {},
   "outputs": [],
   "source": [
    "# 将DataFrame写入CSV文件\n",
    "df.to_csv('processed_data.csv', sep=',' ,mode='w', index=False)"
   ]
  }
 ],
 "metadata": {
  "kernelspec": {
   "display_name": "Python 3",
   "language": "python",
   "name": "python3"
  },
  "language_info": {
   "codemirror_mode": {
    "name": "ipython",
    "version": 3
   },
   "file_extension": ".py",
   "mimetype": "text/x-python",
   "name": "python",
   "nbconvert_exporter": "python",
   "pygments_lexer": "ipython3",
   "version": "3.10.2"
  },
  "orig_nbformat": 4
 },
 "nbformat": 4,
 "nbformat_minor": 2
}
