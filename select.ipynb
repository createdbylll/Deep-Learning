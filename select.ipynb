{
 "cells": [
  {
   "cell_type": "code",
   "execution_count": 1,
   "metadata": {},
   "outputs": [],
   "source": [
    "import pandas as pd\n",
    "import numpy as np"
   ]
  },
  {
   "cell_type": "code",
   "execution_count": 5,
   "metadata": {},
   "outputs": [],
   "source": [
    "df = pd.read_csv('processed_data.csv')\n",
    "# cor_matrix = df.corr()"
   ]
  },
  {
   "cell_type": "code",
   "execution_count": 9,
   "metadata": {},
   "outputs": [],
   "source": [
    "import pickle\n",
    "# f = open(\"cor_matrix.pkl\", 'wb')\n",
    "# pickle.dump(cor_matrix, f)\n",
    "cor_matrix = pickle.load(\"cor_matrix.pkl\")"
   ]
  },
  {
   "cell_type": "code",
   "execution_count": 63,
   "metadata": {},
   "outputs": [],
   "source": [
    "# 根据相关系数选特征\n",
    "data_selected = []\n",
    "for i in list(cor_matrix.columns.values):\n",
    "    if abs(cor_matrix[i]['bad_good'])>=0.05:\n",
    "        data_selected.append(i)"
   ]
  },
  {
   "cell_type": "code",
   "execution_count": 64,
   "metadata": {},
   "outputs": [
    {
     "name": "stdout",
     "output_type": "stream",
     "text": [
      "<class 'pandas.core.frame.DataFrame'>\n",
      "RangeIndex: 285285 entries, 0 to 285284\n",
      "Data columns (total 9 columns):\n",
      " #   Column                     Non-Null Count   Dtype  \n",
      "---  ------                     --------------   -----  \n",
      " 0   bad_good                   285285 non-null  float64\n",
      " 1   DEP_SA_OPEN_TENURE_DAYS    285285 non-null  float64\n",
      " 2   DEP_SA_LAST_TENURE_DAYS    285285 non-null  float64\n",
      " 3   DEP_SA_AVG_TENURE_DAYS     285285 non-null  float64\n",
      " 4   DEP_SA_SUMACCOUNT_CNT      285285 non-null  float64\n",
      " 5   L3_DEP_SA_AVG_ACCOUNT_CNT  285285 non-null  float64\n",
      " 6   L6_DEP_SA_AVG_ACCOUNT_CNT  285285 non-null  float64\n",
      " 7   DEP_SA_ACCOUNT_CNT         285285 non-null  float64\n",
      " 8   LOAN_FLAG                  285285 non-null  float64\n",
      "dtypes: float64(9)\n",
      "memory usage: 19.6 MB\n"
     ]
    }
   ],
   "source": [
    "data_great=df.loc[:, data_selected]\n",
    "data_great.info()"
   ]
  },
  {
   "cell_type": "code",
   "execution_count": 66,
   "metadata": {},
   "outputs": [
    {
     "name": "stdout",
     "output_type": "stream",
     "text": [
      "outlier numbers:1790.00\n",
      "DEP_SA_OPEN_TENURE_DAYS outlier number rate:0.006274\n",
      "----------------------------------------\n",
      "outlier numbers:3332.00\n",
      "DEP_SA_LAST_TENURE_DAYS outlier number rate:0.011680\n",
      "----------------------------------------\n",
      "outlier numbers:2333.00\n",
      "DEP_SA_AVG_TENURE_DAYS outlier number rate:0.008178\n",
      "----------------------------------------\n",
      "outlier numbers:2428.00\n",
      "DEP_SA_SUMACCOUNT_CNT outlier number rate:0.008511\n",
      "----------------------------------------\n",
      "outlier numbers:2386.00\n",
      "L3_DEP_SA_AVG_ACCOUNT_CNT outlier number rate:0.008364\n",
      "----------------------------------------\n",
      "outlier numbers:2355.00\n",
      "L6_DEP_SA_AVG_ACCOUNT_CNT outlier number rate:0.008255\n",
      "----------------------------------------\n",
      "outlier numbers:2428.00\n",
      "DEP_SA_ACCOUNT_CNT outlier number rate:0.008511\n",
      "----------------------------------------\n",
      "outlier numbers:13651.00\n",
      "LOAN_FLAG outlier number rate:0.047850\n",
      "----------------------------------------\n"
     ]
    }
   ],
   "source": [
    "outlier_feature=list(data_great.columns)\n",
    "outlier_feature.remove('bad_good')\n",
    "for i in outlier_feature:\n",
    "    mean=data_great[i].mean()\n",
    "    std=data_great[i].std()\n",
    "    upper_limit=mean+3*std\n",
    "    lower_limit=mean-3*std\n",
    "    condition=(data_great[i]>upper_limit)|(data_great[i]<lower_limit)\n",
    "    print('outlier numbers:%.2f'%len(data_great.loc[condition]))\n",
    "    print(i+' outlier number rate:%.6f'%(len(data_great.loc[condition])/len(data_great)))\n",
    "    print('-'*40)"
   ]
  },
  {
   "cell_type": "code",
   "execution_count": 71,
   "metadata": {},
   "outputs": [
    {
     "name": "stdout",
     "output_type": "stream",
     "text": [
      "<class 'pandas.core.frame.DataFrame'>\n",
      "Int64Index: 264607 entries, 3 to 285284\n",
      "Data columns (total 9 columns):\n",
      " #   Column                     Non-Null Count   Dtype  \n",
      "---  ------                     --------------   -----  \n",
      " 0   bad_good                   264607 non-null  float64\n",
      " 1   DEP_SA_OPEN_TENURE_DAYS    264607 non-null  float64\n",
      " 2   DEP_SA_LAST_TENURE_DAYS    264607 non-null  float64\n",
      " 3   DEP_SA_AVG_TENURE_DAYS     264607 non-null  float64\n",
      " 4   DEP_SA_SUMACCOUNT_CNT      264607 non-null  float64\n",
      " 5   L3_DEP_SA_AVG_ACCOUNT_CNT  264607 non-null  float64\n",
      " 6   L6_DEP_SA_AVG_ACCOUNT_CNT  264607 non-null  float64\n",
      " 7   DEP_SA_ACCOUNT_CNT         264607 non-null  float64\n",
      " 8   LOAN_FLAG                  264607 non-null  float64\n",
      "dtypes: float64(9)\n",
      "memory usage: 20.2 MB\n"
     ]
    }
   ],
   "source": [
    "#根据特征处理异常值\n",
    "data_filtered = data_great.copy()\n",
    "for i in data_selected:\n",
    "    if(i == 'bad_good' or i == 'LOAN_FLAG'):\n",
    "        continue\n",
    "    mean=data_filtered[i].mean()\n",
    "    std=data_filtered[i].std()\n",
    "    upper_limit=mean+3*std\n",
    "    lower_limit=mean-3*std\n",
    "    condition=(data_filtered[i]<=upper_limit)&(data_filtered[i]>=lower_limit)\n",
    "    data_filtered=data_filtered.loc[condition].copy()\n",
    "data_filtered.info()"
   ]
  },
  {
   "cell_type": "code",
   "execution_count": 72,
   "metadata": {},
   "outputs": [],
   "source": [
    "# 重新归一化\n",
    "data_filtered = (data_filtered-data_filtered.min())/(data_filtered.max()-data_filtered.min())"
   ]
  },
  {
   "cell_type": "code",
   "execution_count": 74,
   "metadata": {},
   "outputs": [],
   "source": [
    "f = open('final_data.pkl', 'wb')\n",
    "pickle.dump(data_filtered, f)"
   ]
  },
  {
   "cell_type": "code",
   "execution_count": 69,
   "metadata": {},
   "outputs": [
    {
     "data": {
      "text/plain": [
       "bad_good                     1.000000\n",
       "LOAN_FLAG                    0.588719\n",
       "DEP_SA_OPEN_TENURE_DAYS      0.163460\n",
       "DEP_SA_AVG_TENURE_DAYS       0.156396\n",
       "DEP_SA_LAST_TENURE_DAYS      0.132562\n",
       "L6_DEP_SA_AVG_ACCOUNT_CNT    0.050658\n",
       "L3_DEP_SA_AVG_ACCOUNT_CNT    0.050598\n",
       "DEP_SA_SUMACCOUNT_CNT        0.050487\n",
       "DEP_SA_ACCOUNT_CNT           0.050487\n",
       "Name: bad_good, dtype: float64"
      ]
     },
     "execution_count": 69,
     "metadata": {},
     "output_type": "execute_result"
    }
   ],
   "source": [
    "data_great.corr()['bad_good'].abs().sort_values(ascending=False)"
   ]
  }
 ],
 "metadata": {
  "kernelspec": {
   "display_name": "Python 3",
   "language": "python",
   "name": "python3"
  },
  "language_info": {
   "codemirror_mode": {
    "name": "ipython",
    "version": 3
   },
   "file_extension": ".py",
   "mimetype": "text/x-python",
   "name": "python",
   "nbconvert_exporter": "python",
   "pygments_lexer": "ipython3",
   "version": "3.10.2"
  },
  "orig_nbformat": 4
 },
 "nbformat": 4,
 "nbformat_minor": 2
}
