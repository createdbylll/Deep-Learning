{
 "cells": [
  {
   "cell_type": "code",
   "execution_count": 31,
   "metadata": {},
   "outputs": [],
   "source": [
    "import matplotlib.pyplot as plt\n",
    "import seaborn as sns\n",
    "import pandas as pd\n",
    "import numpy as np"
   ]
  },
  {
   "cell_type": "markdown",
   "metadata": {},
   "source": [
    "### 读取数据"
   ]
  },
  {
   "cell_type": "code",
   "execution_count": 32,
   "metadata": {},
   "outputs": [
    {
     "name": "stderr",
     "output_type": "stream",
     "text": [
      "C:\\Users\\guoxu\\AppData\\Local\\Temp\\ipykernel_2896\\1028321350.py:1: DtypeWarning: Columns (3) have mixed types. Specify dtype option on import or set low_memory=False.\n",
      "  df = pd.read_csv('train.csv')\n"
     ]
    },
    {
     "name": "stdout",
     "output_type": "stream",
     "text": [
      "<class 'pandas.core.frame.DataFrame'>\n",
      "RangeIndex: 285285 entries, 0 to 285284\n",
      "Columns: 627 entries, CUST_ID to L6_CHANNEL_TXN_DOUTTA_AVGCNT\n",
      "dtypes: float64(399), int64(196), object(32)\n",
      "memory usage: 1.3+ GB\n"
     ]
    }
   ],
   "source": [
    "df = pd.read_csv('train.csv')\n",
    "df.info()"
   ]
  },
  {
   "cell_type": "code",
   "execution_count": 47,
   "metadata": {},
   "outputs": [
    {
     "data": {
      "text/plain": [
       "bad_good\n",
       "0    280401\n",
       "1      4884\n",
       "Name: count, dtype: int64"
      ]
     },
     "execution_count": 47,
     "metadata": {},
     "output_type": "execute_result"
    }
   ],
   "source": [
    "df['bad_good'].value_counts()"
   ]
  },
  {
   "cell_type": "markdown",
   "metadata": {},
   "source": [
    "### 缺失值处理"
   ]
  },
  {
   "cell_type": "code",
   "execution_count": 33,
   "metadata": {},
   "outputs": [
    {
     "name": "stdout",
     "output_type": "stream",
     "text": [
      "0\n"
     ]
    }
   ],
   "source": [
    "null_num = 0\n",
    "for col in list(df.columns):\n",
    "    null_num += df[col].isnull().sum()\n",
    "print(null_num)# 总缺失值数量"
   ]
  },
  {
   "cell_type": "markdown",
   "metadata": {},
   "source": [
    "### Object类型数据处理"
   ]
  },
  {
   "cell_type": "code",
   "execution_count": 34,
   "metadata": {},
   "outputs": [
    {
     "name": "stdout",
     "output_type": "stream",
     "text": [
      "32\n",
      "Index(['IDF_TYP_CD', 'GENDER', 'CUST_EUP_ACCT_FLAG', 'CUST_AU_ACCT_FLAG',\n",
      "       'CUST_SALARY_FINANCIAL_FLAG', 'CUST_SOCIAL_SECURITYIC_FLAG',\n",
      "       'CUST_MTFLOW_FLAG', 'CUST_DOLLER_FLAG', 'CUST_INTERNATIONAL_GOLD_FLAG',\n",
      "       'CUST_INTERNATIONAL_COMMON_FLAG', 'CUST_INTERNATIONAL_SIL_FLAG',\n",
      "       'CUST_INTERNATIONAL_DIAMOND_FLAG', 'CUST_GOLD_COMMON_FLAG',\n",
      "       'CUST_STAD_PLATINUM_FLAG', 'CUST_LUXURY_PLATINUM_FLAG',\n",
      "       'CUST_PLATINUM_FINANCIAL_FLAG', 'CUST_DIAMOND_FLAG',\n",
      "       'CUST_INFINIT_FLAG', 'CUST_BUSINESS_FLAG', 'DEP_SA_FLAG', 'DEP_TD_FLAG',\n",
      "       'LOAN_FLAG', 'FUND_FLAG', 'C_FUND_FLAG', 'D_FUND_FLAG', 'S_FUND_FLAG',\n",
      "       'BOND_FLAG', 'CER_BOND_FLAG', 'BK_BOND_FLAG', 'CRED_FLAG',\n",
      "       'RELATED_REPAY_FLAG', 'TOT_REPAY_FLAG'],\n",
      "      dtype='object')\n"
     ]
    }
   ],
   "source": [
    "df_obj = df.select_dtypes('object').columns\n",
    "print(len(df_obj))\n",
    "print(df_obj)"
   ]
  },
  {
   "cell_type": "code",
   "execution_count": 35,
   "metadata": {},
   "outputs": [
    {
     "data": {
      "text/plain": [
       "IDF_TYP_CD\n",
       "ZR01    280187\n",
       "ZR03      1835\n",
       "ZR22       708\n",
       "ZR20       587\n",
       "ZR21       552\n",
       "ZR04       280\n",
       "ZR11       248\n",
       "ZR08       240\n",
       "ZR09       232\n",
       "ZR07       177\n",
       "ZR05        78\n",
       "ZR06        77\n",
       "ZR02        50\n",
       "ZR10        19\n",
       "ZR13         7\n",
       "ZR16         5\n",
       "ZR12         2\n",
       "ZR14         1\n",
       "Name: count, dtype: int64"
      ]
     },
     "execution_count": 35,
     "metadata": {},
     "output_type": "execute_result"
    }
   ],
   "source": [
    "df['IDF_TYP_CD'].value_counts()"
   ]
  },
  {
   "cell_type": "code",
   "execution_count": 36,
   "metadata": {},
   "outputs": [
    {
     "data": {
      "text/plain": [
       "GENDER\n",
       "1    108746\n",
       "2    100150\n",
       "1     38878\n",
       "2     36398\n",
       "X      1113\n",
       "Name: count, dtype: int64"
      ]
     },
     "execution_count": 36,
     "metadata": {},
     "output_type": "execute_result"
    }
   ],
   "source": [
    "df['GENDER'].value_counts()"
   ]
  },
  {
   "cell_type": "code",
   "execution_count": 37,
   "metadata": {},
   "outputs": [
    {
     "data": {
      "text/plain": [
       "TOT_REPAY_FLAG\n",
       "N    244991\n",
       "Y     40294\n",
       "Name: count, dtype: int64"
      ]
     },
     "execution_count": 37,
     "metadata": {},
     "output_type": "execute_result"
    }
   ],
   "source": [
    "df['TOT_REPAY_FLAG'].value_counts()"
   ]
  },
  {
   "cell_type": "code",
   "execution_count": 39,
   "metadata": {},
   "outputs": [],
   "source": [
    "# 将IDF_TYP_CD提取为后两位数字\n",
    "df['IDF_TYP_CD'] = df['IDF_TYP_CD'].apply(lambda row : int(row[2:]))\n",
    "\n",
    "# 将gender中的字符'X'设置为3（待讨论）\n",
    "df['GENDER'] = df['GENDER'].apply(lambda x: 3 if x == 'X' else int(x))\n",
    "\n",
    "# 将FLAG类属性列取值转换为0, 1\n",
    "df_obj = df_obj.drop(['IDF_TYP_CD', 'GENDER'])\n",
    "for col in df_obj:\n",
    "    df[col] = df[col].apply(lambda x: 0 if x == 'N' else 1)"
   ]
  },
  {
   "cell_type": "markdown",
   "metadata": {},
   "source": [
    "### 冗余特征处理"
   ]
  },
  {
   "cell_type": "code",
   "execution_count": 42,
   "metadata": {},
   "outputs": [
    {
     "name": "stdout",
     "output_type": "stream",
     "text": [
      "91\n",
      "37\n"
     ]
    }
   ],
   "source": [
    "# 统计取值个数为1或2的属性列(实际上也可以处理个数为3/4/5等的属性列)\n",
    "col_value1 = []\n",
    "col_value2 = []\n",
    "for col in df.columns:\n",
    "    diff_num = len(df[col].value_counts())\n",
    "    if diff_num == 1:\n",
    "        col_value1.append(col)\n",
    "    elif diff_num == 2:\n",
    "        col_value2.append(col)\n",
    "print(len(col_value1))\n",
    "print(len(col_value2))"
   ]
  },
  {
   "cell_type": "code",
   "execution_count": 43,
   "metadata": {},
   "outputs": [
    {
     "name": "stdout",
     "output_type": "stream",
     "text": [
      "bad_good\n",
      "guozhai_flag\n",
      "CHANNEL_TELBANK_FINANCIAL_AMT\n",
      "CHANNEL_TELBANK_FINANCIAL_CNT\n",
      "L3_CHANNEL_TELBANK_FINANCIAL_MON\n",
      "L3_CHANNEL_TELBANK_FINANCIAL_MO0\n",
      "L6_CHANNEL_TELBANK_FINANCIAL_MON\n",
      "L6_CHANNEL_TELBANK_FINANCIAL_MO0\n",
      "L3_CHANNEL_DAY_MSPOS_CREDIT_MAXA\n",
      "L6_CHANNEL_DAY_OTRPOS_CREDIT_MAX\n"
     ]
    }
   ],
   "source": [
    "# 原值非object类型的二值列\n",
    "for col in col_value2:\n",
    "    if col not in df_obj:\n",
    "        print(col)\n",
    "# 逐一查看取值情况，发现：\n",
    "# bad_good  目标列\n",
    "# guozhai_flag  285238: 47\n",
    "# 其余8列取值分布均为 258284: 1(怀疑可能同时出现现在一个样本上，待进一步研究)"
   ]
  },
  {
   "cell_type": "code",
   "execution_count": 59,
   "metadata": {},
   "outputs": [],
   "source": [
    "# 删除无信息的索引列CUST_ID\n",
    "df.drop('CUST_ID', inplace=True, axis=1)\n",
    "\n",
    "# 删除取值全相同或几乎全相同的列(共99列)\n",
    "to_drop = col_value1\n",
    "for col in col_value2:\n",
    "    if col not in df_obj and col not in ['bad_good', 'guozhai_flag']:\n",
    "        to_drop.append(col)\n",
    "df.drop(to_drop, inplace=True, axis=1)"
   ]
  },
  {
   "cell_type": "code",
   "execution_count": 78,
   "metadata": {},
   "outputs": [
    {
     "name": "stdout",
     "output_type": "stream",
     "text": [
      "171\n",
      "S_FUND_FLAG\n",
      "DEP_SA_ACCOUNT_CNT\n",
      "L3_CHANNEL_TEL_DTAIN_AVGAMT\n",
      "CHANNEL_TEL_DTAIN_CNT\n",
      "L6_CHANNEL_SIGLE_MSPOS_CREDIT_MA\n",
      "CHANNEL_AUTO_DOUTTA_CNT\n",
      "CHANNEL_CTR_SOUTTA_AMT\n",
      "L3_CHANNEL_CTR_OUT_MAX_AMT\n",
      "CHANNEL_TEL_DOUTTA_AMT\n",
      "L6_CHANNEL_TELBANK_FUND_MONTHAVG\n",
      "L6_CUST_ASSET_AVG_AMT\n",
      "L3_CHANNEL_TEL_DOUTTA_AVGAMT\n",
      "L6_CHANNEL_OTRPOS_DEBIT_AVG_AMT\n",
      "CHANNEL_INTER_CREDIT_AMT\n",
      "CUST_NADEBT_AMT\n",
      "L3_CHANNEL_AUTO_CASH_OUT_MAX_AMT\n",
      "L3_DEP_SA_AVG_ACCOUNT_CNT\n",
      "L6_CUST_PRIDEPT_AVGAMT\n",
      "L6_CHANNEL_SIGLE_MSPOS_CREDIT_MI\n",
      "L3_CHANNEL_INTER_OUT_MIN_AMT\n",
      "L3_CHANNEL_AUTO_DTAIN_AVGAMT\n",
      "L6_CHANNEL_TEL_SOUTTA_AVGCNT\n",
      "L3_CHANNEL_CTR_FINANCIAL_MONTHAV\n",
      "D_FUND_FLAG\n",
      "L3_CUST_PRIDEPT_AVGAMT\n",
      "L6_DEP_SA_NEW_AVG_BAL\n",
      "L6_CHANNEL_WEB_STAIN_AVGAMT\n",
      "L6_CHANNEL_TEL_DTAIN_AVGAMT\n",
      "L3_CHANNEL_AUTO_CASH_IN_MAX_AMT\n",
      "L3DEP_SA_CREDIT_AMT\n",
      "L6_CHANNEL_CTR_DOUTTA_MINAMT\n",
      "L6_CHANNEL_CTR_DTAIN_MINAMT\n",
      "CUST_INFINIT_FLAG\n",
      "L6_CHANNEL_TEL_STAIN_AVGAMT\n",
      "C_FUND_FLAG\n",
      "CHANNEL_WEBBANK_FUND_CNT\n",
      "L6_CHANNEL_WEB_DOUTTA_AVGAMT\n",
      "CHANNEL_TEL_SOUTTA_AMT\n",
      "L3_CHANNEL_WEB_STAIN_MAXAMT\n",
      "L6_CHANNEL_OTHER_IN_MIN_AMT\n",
      "L3_CUST_ASSET_AVG_AMT\n",
      "L3_CHANNEL_WEB_SOUTTA_MINAMT\n",
      "L3_CHANNEL_MOBILE_IN_MIN_AMT\n",
      "L6_CHANNEL_TEL_DTAIN_AVGCNT\n",
      "L3_DEP_SA_NEW_ACCOUNT_CNT\n",
      "L3_CHANNEL_WEB_STAIN_MINAMT\n",
      "L6_CHANNEL_WEB_STAIN_MAXAMT\n",
      "CHANNEL_MSPOS_CREDIT_AMT\n",
      "CHANNEL_CTR_FINANCIAL_AMT\n",
      "L3_CHANNEL_TRANS_OUT_MIN_AMT\n",
      "L3_CHANNEL_SIGLE_MSPOS_CREDIT_MA\n",
      "L3_CHANNEL_TEL_DTAIN_AVGCNT\n",
      "L3_CUST_NADEBT_AVGAMT\n",
      "CUST_METAL_AMT\n",
      "L3_CHANNEL_CTR_FUND_MONTHAVG_AMT\n",
      "OS_PRCP_SUM_SIX\n",
      "L3_CHANNEL_CASH_IN_MIN_AMT\n",
      "L3_CHANNEL_WEB_DTAIN_MINAMT\n",
      "L3_CHANNEL_DAY_OTRPOS_CREDIT_MAX\n",
      "L6_CHANNEL_INTER_AVG_AMT\n",
      "L3_CHANNEL_OTRPOS_DEBIT_AVG_AMT\n",
      "L3_CHANNEL_AUTO_CASH_OUT_MIN_AMT\n",
      "L6_CHANNEL_CASH_IN_MAX_AMT\n",
      "CHANNEL_OTRPOS_DEBIT_AMT\n",
      "CHANNEL_TEL_SOUTTA_CNT\n",
      "L3_CHANNEL_AUTO_AVG_AMT\n",
      "L3_CHANNEL_CTR_FUND_MONTHAVG_CNT\n",
      "L6_CHANNEL_CTR_FUND_MONTHAVG_CNT\n",
      "DEP_SA_NEW_BAL\n",
      "L6_CHANNEL_SIGLE_OTRPOS_CREDIT_0\n",
      "L6_CHANNEL_AUTO_CASH_IN_MAX_AMT\n",
      "CHANNEL_CTR_DOUTTA_CNT\n",
      "L6_CHANNEL_OTHER_OUT_MIN_AMT\n",
      "L3_CHANNEL_DAY_MSPOS_CREDIT_MINA\n",
      "L6_CHANNEL_MOBILE_IN_MIN_AMT\n",
      "CHANNEL_TELBANK_FUND_CNT\n",
      "L3_CHANNEL_AUTO_TRANS_IN_MIN_AMT\n",
      "L6_CHANNEL_AUTO_CASH_OUT_MIN_AMT\n",
      "L6_CHANNEL_TRANS_OUT_MIN_AMT\n",
      "L3_CHANNEL_MOBILE_OUT_MIN_AMT\n",
      "CHANNEL_DAY_OTRPOS_CREDIT_MAXAMT\n",
      "L6_CHANNEL_TEL_STAIN_AVGCNT\n",
      "CHANNEL_WEB_DOUTTA_AMT\n",
      "L3_CHANNEL_CTR_FINANCIAL_MONTHA0\n",
      "L3_CHANNEL_INTER_AVG_AMT\n",
      "L3_CHANNEL_WEB_SOUTTA_AVGAMT\n",
      "CHANNEL_MOB_STAIN_CNT\n",
      "L6_CHANNEL_MOB_DTAIN_AVGCNT\n",
      "CER_BOND_FLAG\n",
      "L6_CHANNEL_CASH_OUT_MIN_AMT\n",
      "L6_CHANNEL_MSPOS_CREDIT_AVG_AMT\n",
      "CUST_DIFF_OUT_AMT\n",
      "L6_CHANNEL_TEL_DOUTTA_AVGAMT\n",
      "CHANNEL_DAY_MSPOS_CREDIT_MINAMT\n",
      "L6_CHANNEL_CTR_FINANCIAL_MONTHA0\n",
      "L3_CHANNEL_MSPOS_CREDIT_AVG_AMT\n",
      "CUST_BUSINESS_FLAG\n",
      "L6_CHANNEL_MOB_STAIN_AVGAMT\n",
      "L3_CHANNEL_TEL_STAIN_AVGCNT\n",
      "CHANNEL_AUTO_DOUTTA_AMT\n",
      "L6_CHANNEL_WEB_DOUTTA_MAXAMT\n",
      "L3_CHANNEL_CASH_IN_MAX_AMT\n",
      "L3_CHANNEL_TEL_DOUTTA_AVGCNT\n",
      "CHANNEL_CTR_FUND_AMT\n",
      "L3_CHANNEL_CTR_DOUTTA_MINAMT\n",
      "CHANNEL_DAY_MSPOS_CREDIT_MAXAMT\n",
      "L3_DEP_SA_FGCR_NEW_AVG_BAL\n",
      "L3_CHANNEL_WEB_SOUTTA_MAXAMT\n",
      "CHANNEL_WEBBANK_FUND_AMT\n",
      "CHANNEL_AUTO_DTAIN_AMT\n",
      "CHANNEL_MSPOS_CREDIT_CNT\n",
      "L3_CHANNEL_WEB_DOUTTA_AVGAMT\n",
      "L6_CUST_NADEBT_AVGAMT\n",
      "L6_CHANNEL_MSPOS_CREDIT_AVG_CNT\n",
      "L6_CUST_METAL_AVGAMT\n",
      "CHANNEL_CTR_DEBIT_AMT\n",
      "L3_CHANNEL_WEB_STAIN_AVGAMT\n",
      "DEP_SA_NEW_ACCOUNT_CNT\n",
      "L3_CHANNEL_TELBANK_FUND_MONTHAVG\n",
      "L3_CHANNEL_OTHER_IN_MIN_AMT\n",
      "CHANNEL_CTR_DOUTTA_AMT\n",
      "L6_CHANNEL_WEBBANK_FUND_MONTHAVG\n",
      "L3_CHANNEL_SIGLE_MSPOS_CREDIT_MI\n",
      "CUST_ASSET_AMT\n",
      "L6_CHANNEL_CTR_FINANCIAL_MONTHAV\n",
      "CHANNEL_DAY_OTRPOS_DEBIT_MINAMT\n",
      "CHANNEL_OTRPOS_CREDIT_AMT\n",
      "L3_CHANNEL_CASH_OUT_MAX_AMT\n",
      "CHANNEL_CTR_FINANCIAL_CNT\n",
      "L3_CHANNEL_TELBANK_FUND_MONTHAV0\n",
      "CUST_SAME_OUT_AMT\n",
      "L3_CHANNEL_AUTO_CASH_IN_MIN_AMT\n",
      "L3_CHANNEL_CTR_DTAIN_MINAMT\n",
      "L6_CHANNEL_CASH_OUT_MAX_AMT\n",
      "CHANNEL_WEB_DTAIN_AMT\n",
      "L3_CHANNEL_MSPOS_CREDIT_AVG_CNT\n",
      "L6_CHANNEL_TEL_SOUTTA_AVGAMT\n",
      "L6_CHANNEL_WEB_SOUTTA_AVGAMT\n",
      "CHANNEL_TEL_DOUTTA_CNT\n",
      "L3_CUST_DIFF_OUT_AMT\n",
      "L3_CHANNEL_TEL_STAIN_AVGAMT\n",
      "CUST_PLATINUM_FINANCIAL_FLAG\n",
      "L3_CHANNEL_AUTO_TRANS_OUT_MAX_AM\n",
      "L6_CHANNEL_DAY_MSPOS_CREDIT_MINA\n",
      "L3_CHANNEL_TEL_SOUTTA_AVGAMT\n",
      "L3_CHANNEL_CASH_OUT_MIN_AMT\n",
      "CHANNEL_AUTO_CREDIT_AMT\n",
      "L6_CHANNEL_AUTO_CASH_IN_MIN_AMT\n",
      "L3_CHANNEL_CTR_INSURE_MONTHAVG_C\n",
      "L6_CHANNEL_AUTO_DTAIN_AVGAMT\n",
      "L6_CHANNEL_DAY_OTRPOS_DEBIT_MAXA\n",
      "L3_CUST_METAL_AVGAMT\n",
      "L3_CHANNEL_WEB_DOUTTA_MAXAMT\n",
      "L3_CHANNEL_TEL_SOUTTA_AVGCNT\n",
      "L6_CHANNEL_CTR_STAIN_MINAMT\n",
      "L6_CHANNEL_CASH_IN_MIN_AMT\n",
      "L6_CUST_DIFF_OUT_AMT\n",
      "L6_CHANNEL_DAY_MSPOS_DEBIT_MINAM\n",
      "CHANNEL_TEL_DTAIN_AMT\n",
      "L6_CHANNEL_SIGLE_OTRPOS_DEBIT_MA\n",
      "L6_CHANNEL_WEB_DTAIN_MINAMT\n",
      "L6_DEP_SA_NEW_ACCOUNT_CNT\n",
      "L6DEP_SA_CREDIT_AMT\n",
      "CHANNEL_OTRPOS_CREDIT_CNT\n",
      "L3_CHANNEL_SIGLE_OTRPOS_CREDIT_0\n",
      "L3_CHANNEL_DAY_MSPOS_DEBIT_MINAM\n",
      "L6_CHANNEL_TELBANK_FUND_MONTHAV0\n",
      "CHANNEL_OTHER_IN_MIN_AMT\n",
      "L6_CHANNEL_CTR_OUT_MAX_AMT\n",
      "L6_CHANNEL_CTR_FUND_MONTHAVG_AMT\n",
      "L6_CHANNEL_AUTO_CASH_OUT_MAX_AMT\n"
     ]
    }
   ],
   "source": [
    "# 删除相关系数大于0.999的属性列或与目标列bad_good相关系数小于0.001的属性列(共171列)\n",
    "to_drop = set()\n",
    "for i in range(len(df.columns)):\n",
    "    for j in range(len(df.columns)):\n",
    "        if df.columns[i] != 'bad_good':\n",
    "            if j > i and abs(df[df.columns[i]].corr(df[df.columns[j]])) > 0.999:\n",
    "                to_drop.add(df.columns[j])\n",
    "        else:\n",
    "            if df.columns[j] != 'bad_good' and abs(df[df.columns[i]].corr(df[df.columns[j]])) < 0.001:\n",
    "                to_drop.add(df.columns[j])\n",
    "print(len(to_drop))\n",
    "for col in to_drop:\n",
    "    print(col)\n",
    "df.drop(to_drop, inplace=True, axis=1)"
   ]
  },
  {
   "cell_type": "markdown",
   "metadata": {},
   "source": [
    "### 异常值处理(待讨论)"
   ]
  },
  {
   "cell_type": "code",
   "execution_count": 79,
   "metadata": {},
   "outputs": [
    {
     "data": {
      "text/plain": [
       "Text(0.5, 1.0, '\"Outlier rate\" of each column')"
      ]
     },
     "execution_count": 79,
     "metadata": {},
     "output_type": "execute_result"
    },
    {
     "data": {
      "image/png": "[encoded data removed]",
      "text/plain": [
       "<Figure size 640x480 with 1 Axes>"
      ]
     },
     "metadata": {},
     "output_type": "display_data"
    }
   ],
   "source": [
    "# 位于3 * sigma范围之外的数据占比应不超过0.003\n",
    "outlier_rate = list()\n",
    "for col in df.columns:\n",
    "    mean = df[col].mean()\n",
    "    std = df[col].std()\n",
    "    upper_limit = mean + 3 * std\n",
    "    lower_limit = mean - 3 * std\n",
    "    condition = (df[col] > upper_limit)|(df[col] < lower_limit)\n",
    "    outlier_rate.append(len(df.loc[condition])/len(df))\n",
    "\n",
    "sns.barplot(x=np.arange(len(outlier_rate)), y=outlier_rate)\n",
    "plt.xticks(color = 'white')\n",
    "plt.title('Outlier rate of each column')"
   ]
  },
  {
   "cell_type": "code",
   "execution_count": 91,
   "metadata": {},
   "outputs": [
    {
     "name": "stdout",
     "output_type": "stream",
     "text": [
      "209\n"
     ]
    },
    {
     "data": {
      "text/plain": [
       "['OPEN_ORG_NUM',\n",
       " 'IDF_TYP_CD',\n",
       " 'bad_good',\n",
       " 'LAST_OPEN_TENURE_DAYS',\n",
       " 'G_OS_PRCP_SUM',\n",
       " 'OS_PRCP_SUM_THREE',\n",
       " 'L3_DR_AMT',\n",
       " 'L3_DR_CNT',\n",
       " 'DR_AMT',\n",
       " 'DR_CNT',\n",
       " 'L3_CR_AMT',\n",
       " 'L3_CR_CNT',\n",
       " 'CR_AMT',\n",
       " 'CR_CNT',\n",
       " 'CUST_ACCOUNT_CNT',\n",
       " 'CUST_PRODUCT_CNT',\n",
       " 'CUST_SAVING_AMT',\n",
       " 'CUST_FINA_AMT',\n",
       " 'CUST_FOND_AMT',\n",
       " 'CUST_AUM',\n",
       " 'CUST_INTERNATIONAL_GOLD_FLAG',\n",
       " 'CUST_INTERNATIONAL_COMMON_FLAG',\n",
       " 'CUST_INTERNATIONAL_SIL_FLAG',\n",
       " 'CUST_INTERNATIONAL_DIAMOND_FLAG',\n",
       " 'CUST_GOLD_COMMON_FLAG',\n",
       " 'CUST_STAD_PLATINUM_FLAG',\n",
       " 'CUST_DIAMOND_FLAG',\n",
       " 'CUST_DEBT_AMT',\n",
       " 'CUST_ACCOUNT_OPEN_CNT',\n",
       " 'CUST_ACCOUNT_LOST_CNT',\n",
       " 'L3_CUST_AVG_AUM',\n",
       " 'L6_CUST_AVG_AUM',\n",
       " 'L3_CUST_SAVING_AVGAMT',\n",
       " 'L6_CUST_SAVING_AVGAMT',\n",
       " 'L3_CUST_FINA_AVGAMT',\n",
       " 'L6_CUST_FINA_AVGAMT',\n",
       " 'L3_CUST_FOND_AVGAMT',\n",
       " 'L6_CUST_FOND_AVGAMT',\n",
       " 'L3_CUST_DEBT_AVG_AMT',\n",
       " 'L6_CUST_DEBT_AVG_AMT',\n",
       " 'CUST_DIFF_IN_AMT',\n",
       " 'CUST_SAME_IN_CNT',\n",
       " 'CUST_SAME_OUT_CNT',\n",
       " 'L3_CUST_DIFF_IN_AMT',\n",
       " 'L3_CUST_SAME_OUT_AMT',\n",
       " 'L3_CUST_SAME_IN_CNT',\n",
       " 'L6_CUST_DIFF_IN_AMT',\n",
       " 'L6_CUST_SAME_OUT_AMT',\n",
       " 'L6_CUST_SAME_IN_CNT',\n",
       " 'DEP_SA_FLAG',\n",
       " 'DEP_SA_OPEN_TENURE_DAYS',\n",
       " 'DEP_SA_LAST_TENURE_DAYS',\n",
       " 'DEP_SA_AVG_TENURE_DAYS',\n",
       " 'DEP_SA_SUMACCOUNT_CNT',\n",
       " 'L6_DEP_SA_AVG_ACCOUNT_CNT',\n",
       " 'DEP_SA_FGCR_ACCOUNT_CNT',\n",
       " 'DEP_SA_BAL',\n",
       " 'L3_DEP_SA_BAL',\n",
       " 'L6_DEP_SA_BAL',\n",
       " 'L3_DEP_SA_NEW_AVG_BAL',\n",
       " 'DEP_SA_TRSP_DEP_AMT',\n",
       " 'DEP_SA_TRSP_WITD_AMT',\n",
       " 'DEP_SA_DAY_MAX_IN_AMT',\n",
       " 'DEP_SA_MOTH_MAX_IN_AMT',\n",
       " 'DEP_SA_DAY_MAX_OUT_AMT',\n",
       " 'DEP_SA_MOTH_MAX_OUT_AMT',\n",
       " 'L3DEP_SA_DAY_MAX_IN_AMT',\n",
       " 'L3DEP_SA_MOTH_MAX_IN_AMT',\n",
       " 'L3DEP_SA_DAY_MAX_OUT_AMT',\n",
       " 'L3DEP_SA_MOTH_MAX_OUT_AMT',\n",
       " 'L6DEP_SA_DAY_MAX_IN_AMT',\n",
       " 'L6DEP_SA_MOTH_MAX_IN_AMT',\n",
       " 'L6DEP_SA_DAY_MAX_OUT_AMT',\n",
       " 'L6DEP_SA_MOTH_MAX_OUT_AMT',\n",
       " 'DEP_SA_DEBIT_AMT',\n",
       " 'DEP_SA_CREDIT_AMT',\n",
       " 'DEP_SA_CREDIT_CNT',\n",
       " 'L3DEP_SA_DEBIT_AMT',\n",
       " 'L3DEP_SA_CREDIT_CNT',\n",
       " 'L6DEP_SA_DEBIT_AMT',\n",
       " 'L6DEP_SA_CREDIT_CNT',\n",
       " 'DEP_SA_DAYAVG_BAL',\n",
       " 'L3_DEP_SA_DAYAVG_BAL',\n",
       " 'L6_DEP_SA_DAYAVG_BAL',\n",
       " 'LOAN_FLAG',\n",
       " 'FUND_FLAG',\n",
       " 'RELATED_REPAY_FLAG',\n",
       " 'L3_DEP_CARD_CUST_AMT',\n",
       " 'L3_DEP_CARD_CUST_CNT',\n",
       " 'L6_DEP_CARD_CUST_AMT',\n",
       " 'L6_DEP_CARD_CUST_CNT',\n",
       " 'DEP_CARD_CUST_CNT',\n",
       " 'DEP_CARD_CUST_AMT',\n",
       " 'CHANNEL_CTR_CREDIT_CNT',\n",
       " 'CHANNEL_CTR_DEBIT_CNT',\n",
       " 'L3_CHANNEL_CTR_AVG_AMT',\n",
       " 'L3_CHANNEL_CTR_AVG_CNT',\n",
       " 'L3_CHANNEL_CTR_IN_MAX_AMT',\n",
       " 'L3_CHANNEL_TRANS_IN_MAX_AMT',\n",
       " 'L3_CHANNEL_CTR_IN_MIN_AMT',\n",
       " 'L3_CHANNEL_TRANS_OUT_MAX_AMT',\n",
       " 'L6_CHANNEL_CTR_AVG_AMT',\n",
       " 'L6_CHANNEL_CTR_AVG_CNT',\n",
       " 'L6_CHANNEL_CTR_IN_MAX_AMT',\n",
       " 'L6_CHANNEL_TRANS_IN_MAX_AMT',\n",
       " 'L6_CHANNEL_CTR_IN_MIN_AMT',\n",
       " 'L6_CHANNEL_TRANS_OUT_MAX_AMT',\n",
       " 'CHANNEL_MOBILE_DEBIT_AMT',\n",
       " 'CHANNEL_MOBILE_DEBIT_CNT',\n",
       " 'CHANNEL_MOBILE_CREDIT_CNT',\n",
       " 'L3_CHANNEL_MOBILE_AVG_CNT',\n",
       " 'L6_CHANNEL_MOBILE_OUT_MAX_AMT',\n",
       " 'CHANNEL_INTER_DEBIT_AMT',\n",
       " 'CHANNEL_INTER_CREDIT_CNT',\n",
       " 'L3_CHANNEL_INTER_IN_MAX_AMT',\n",
       " 'L3_CHANNEL_INTER_IN_MIN_AMT',\n",
       " 'L3_CHANNEL_INTER_OUT_MAX_AMT',\n",
       " 'L6_CHANNEL_INTER_IN_MAX_AMT',\n",
       " 'L6_CHANNEL_INTER_IN_MIN_AMT',\n",
       " 'L6_CHANNEL_INTER_OUT_MAX_AMT',\n",
       " 'CHANNEL_AUTO_DEBIT_CNT',\n",
       " 'CHANNEL_AUTO_CREDIT_CNT',\n",
       " 'L3_CHANNEL_AUTO_AVG_CNT',\n",
       " 'L3_CHANNEL_AUTO_IN_MAX_AMT',\n",
       " 'L3_CHANNEL_AUTO_TRANS_IN_MAX_AMT',\n",
       " 'L3_CHANNEL_AUTO_IN_MIN_AMT',\n",
       " 'L3_CHANNEL_AUTO_OUT_MAX_AMT',\n",
       " 'L3_CHANNEL_AUTO_OUT_MIN_AMT',\n",
       " 'L6_CHANNEL_AUTO_AVG_AMT',\n",
       " 'L6_CHANNEL_AUTO_AVG_CNT',\n",
       " 'L6_CHANNEL_AUTO_IN_MAX_AMT',\n",
       " 'L6_CHANNEL_AUTO_TRANS_IN_MAX_AMT',\n",
       " 'L6_CHANNEL_AUTO_IN_MIN_AMT',\n",
       " 'L6_CHANNEL_AUTO_OUT_MAX_AMT',\n",
       " 'L6_CHANNEL_AUTO_OUT_MIN_AMT',\n",
       " 'L3_CHANNEL_MSPOS_DEBIT_AVG_CNT',\n",
       " 'L3_CHANNEL_SIGLE_MSPOS_DEBIT_MAX',\n",
       " 'L6_CHANNEL_MSPOS_DEBIT_AVG_CNT',\n",
       " 'L6_CHANNEL_SIGLE_MSPOS_DEBIT_MAX',\n",
       " 'CHANNEL_OTRPOS_DEBIT_CNT',\n",
       " 'L3_CHANNEL_OTRPOS_DEBIT_AVG_CNT',\n",
       " 'L3_CHANNEL_OTRPOS_CREDIT_AVG_CNT',\n",
       " 'L3_CHANNEL_DAY_OTRPOS_DEBIT_MAXA',\n",
       " 'L3_CHANNEL_SIGLE_OTRPOS_DEBIT_MA',\n",
       " 'L6_CHANNEL_OTRPOS_DEBIT_AVG_CNT',\n",
       " 'CHANNEL_OTHER_DEBIT_AMT',\n",
       " 'CHANNEL_OTHER_DEBIT_CNT',\n",
       " 'CHANNEL_OTHER_CREDIT_AMT',\n",
       " 'CHANNEL_OTHER_CREDIT_CNT',\n",
       " 'CHANNEL_OTHER_IN_MAX_AMT',\n",
       " 'L3_CHANNEL_OTHER_AVG_AMT',\n",
       " 'L3_CHANNEL_OTHER_AVG_CNT',\n",
       " 'L3_CHANNEL_OTHER_IN_MAX_AMT',\n",
       " 'L3_CHANNEL_OTHER_OUT_MAX_AMT',\n",
       " 'L3_CHANNEL_OTHER_OUT_MIN_AMT',\n",
       " 'L6_CHANNEL_OTHER_AVG_AMT',\n",
       " 'L6_CHANNEL_OTHER_AVG_CNT',\n",
       " 'L6_CHANNEL_OTHER_IN_MAX_AMT',\n",
       " 'L6_CHANNEL_OTHER_OUT_MAX_AMT',\n",
       " 'LG_TXN_AMT',\n",
       " 'LG_TXN_CNT',\n",
       " 'L3_LG_TXN_AVG_AMT',\n",
       " 'L3_LG_TXN_AVG_CNT',\n",
       " 'L6_LG_TXN_AVG_AMT',\n",
       " 'L6_LG_TXN_AVG_CNT',\n",
       " 'CHANNEL_CTR_STAIN_CNT',\n",
       " 'CHANNEL_CTR_SOUTTA_CNT',\n",
       " 'CHANNEL_CTR_DTAIN_CNT',\n",
       " 'L3_CHANNEL_CTR_DTAIN_AVGAMT',\n",
       " 'L3_CHANNEL_CTR_STAIN_AVGCNT',\n",
       " 'L3_CHANNEL_CTR_SOUTTA_AVGCNT',\n",
       " 'L3_CHANNEL_CTR_DTAIN_AVGCNT',\n",
       " 'L3_CHANNEL_CTR_DOUTTA_AVGCNT',\n",
       " 'L3_CHANNEL_CTR_DTAIN_MAXAMT',\n",
       " 'L3_CHANNEL_CTR_DOUTTA_MAXAMT',\n",
       " 'L6_CHANNEL_CTR_DTAIN_AVGAMT',\n",
       " 'L6_CHANNEL_CTR_STAIN_AVGCNT',\n",
       " 'L6_CHANNEL_CTR_SOUTTA_AVGCNT',\n",
       " 'L6_CHANNEL_CTR_DTAIN_AVGCNT',\n",
       " 'L6_CHANNEL_CTR_DOUTTA_AVGCNT',\n",
       " 'L6_CHANNEL_CTR_SOUTTA_MAXAMT',\n",
       " 'L6_CHANNEL_CTR_DTAIN_MAXAMT',\n",
       " 'L6_CHANNEL_CTR_DOUTTA_MAXAMT',\n",
       " 'CHANNEL_WEB_SOUTTA_CNT',\n",
       " 'CHANNEL_WEB_DTAIN_CNT',\n",
       " 'L3_CHANNEL_WEB_DTAIN_AVGAMT',\n",
       " 'L3_CHANNEL_WEB_DTAIN_AVGCNT',\n",
       " 'L3_CHANNEL_WEB_DTAIN_MAXAMT',\n",
       " 'L3_CHANNEL_WEB_DOUTTA_MINAMT',\n",
       " 'L6_CHANNEL_WEB_DTAIN_AVGAMT',\n",
       " 'L6_CHANNEL_WEB_DTAIN_AVGCNT',\n",
       " 'L6_CHANNEL_WEB_SOUTTA_MAXAMT',\n",
       " 'L6_CHANNEL_WEB_DTAIN_MAXAMT',\n",
       " 'L6_CHANNEL_WEB_DOUTTA_MINAMT',\n",
       " 'CHANNEL_MOB_DOUTTA_AMT',\n",
       " 'CHANNEL_MOB_SOUTTA_CNT',\n",
       " 'CHANNEL_MOB_DTAIN_CNT',\n",
       " 'CHANNEL_MOB_DOUTTA_CNT',\n",
       " 'L3_CHANNEL_MOB_DOUTTA_AVGAMT',\n",
       " 'L3_CHANNEL_MOB_SOUTTA_AVGCNT',\n",
       " 'L3_CHANNEL_MOB_DOUTTA_AVGCNT',\n",
       " 'L6_CHANNEL_MOB_DOUTTA_AVGAMT',\n",
       " 'L6_CHANNEL_MOB_SOUTTA_AVGCNT',\n",
       " 'L6_CHANNEL_MOB_DOUTTA_AVGCNT',\n",
       " 'CHANNEL_AUTO_DTAIN_CNT',\n",
       " 'L3_CHANNEL_AUTO_DTAIN_AVGCNT',\n",
       " 'L3_CHANNEL_AUTO_DOUTTA_AVGCNT',\n",
       " 'L6_CHANNEL_AUTO_DTAIN_AVGCNT',\n",
       " 'L6_CHANNEL_AUTO_DOUTTA_AVGCNT']"
      ]
     },
     "execution_count": 91,
     "metadata": {},
     "output_type": "execute_result"
    }
   ],
   "source": [
    "outlier_col = []\n",
    "for i in range(len(outlier_rate)):\n",
    "    if outlier_rate[i] > 0.003:\n",
    "        outlier_col.append(df.columns[i])\n",
    "print(len(outlier_col))\n",
    "outlier_col"
   ]
  },
  {
   "cell_type": "markdown",
   "metadata": {},
   "source": [
    "### 连续值归一化&离散值调整(待讨论)"
   ]
  },
  {
   "cell_type": "code",
   "execution_count": 5,
   "metadata": {},
   "outputs": [],
   "source": [
    "# # 归一化\n",
    "# for i in df.columns:\n",
    "#     df[i] = df[i].astype(float)\n",
    "#     df[i] = (df[i]-df[i].min())/(df[i].max()-df[i].min())"
   ]
  },
  {
   "cell_type": "code",
   "execution_count": 100,
   "metadata": {},
   "outputs": [
    {
     "name": "stdout",
     "output_type": "stream",
     "text": [
      "<class 'pandas.core.frame.DataFrame'>\n",
      "RangeIndex: 285285 entries, 0 to 285284\n",
      "Columns: 356 entries, OPEN_ORG_NUM to L6_CHANNEL_AUTO_DOUTTA_AVGCNT\n",
      "dtypes: float64(260), int64(96)\n",
      "memory usage: 774.9 MB\n"
     ]
    }
   ],
   "source": [
    "df.info()"
   ]
  },
  {
   "cell_type": "code",
   "execution_count": 101,
   "metadata": {},
   "outputs": [],
   "source": [
    "# 将DataFrame写入CSV文件\n",
    "df.to_csv('processed.csv', mode='w', index=False)"
   ]
  }
 ],
 "metadata": {
  "kernelspec": {
   "display_name": "Python 3",
   "language": "python",
   "name": "python3"
  },
  "language_info": {
   "codemirror_mode": {
    "name": "ipython",
    "version": 3
   },
   "file_extension": ".py",
   "mimetype": "text/x-python",
   "name": "python",
   "nbconvert_exporter": "python",
   "pygments_lexer": "ipython3",
   "version": "3.9.6"
  },
  "orig_nbformat": 4
 },
 "nbformat": 4,
 "nbformat_minor": 2
}
